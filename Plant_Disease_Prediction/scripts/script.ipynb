{
 "cells": [
  {
   "cell_type": "markdown",
   "id": "9cb5a4eb",
   "metadata": {},
   "source": [
    "Split the Dataset into 70% Training, 20% Vaidation and 10% Testing"
   ]
  },
  {
   "cell_type": "code",
   "execution_count": 2,
   "id": "2a5e7efa",
   "metadata": {},
   "outputs": [],
   "source": [
    "import splitfolders  # install via: pip install split-folders\n",
    "\n",
    "input_folder = \"../dataset\"   # your dataset with disease folders\n",
    "output_folder = \"../data\"     # new folder for split dataset\n",
    "\n",
    "# Split into 70% train, 20% val, 10% test\n",
    "splitfolders.ratio(input_folder, output=output_folder, seed=42, ratio=(0.7, 0.2, 0.1))"
   ]
  }
 ],
 "metadata": {
  "kernelspec": {
   "display_name": "tf2.10-py310",
   "language": "python",
   "name": "python3"
  },
  "language_info": {
   "codemirror_mode": {
    "name": "ipython",
    "version": 3
   },
   "file_extension": ".py",
   "mimetype": "text/x-python",
   "name": "python",
   "nbconvert_exporter": "python",
   "pygments_lexer": "ipython3",
   "version": "3.10.18"
  }
 },
 "nbformat": 4,
 "nbformat_minor": 5
}
